{
 "cells": [
  {
   "cell_type": "code",
   "execution_count": 3,
   "id": "minute-essex",
   "metadata": {},
   "outputs": [],
   "source": [
    "import pandas as pd\n",
    "import re"
   ]
  },
  {
   "cell_type": "code",
   "execution_count": 18,
   "id": "known-carpet",
   "metadata": {},
   "outputs": [],
   "source": [
    "def remove_percents(df, col):\n",
    "    df[col] = df[col].str.replace(\"%\", '')\n",
    "    return df\n",
    "\n",
    "def fill_zero_iron(df):\n",
    "    print (type(df['Iron (% DV)'][0]))\n",
    "    df['Iron (% DV)'] = df['Iron (% DV)'].fillna(0)\n",
    "    return df\n",
    "    \n",
    "def fix_caffeine(df):\n",
    "    df = df[df['Caffeine (mg)'] != 'Varies']\n",
    "    df = df[df['Caffeine (mg)'] != 'NULL']\n",
    "    return df\n",
    "\n",
    "def standardize_names(df):\n",
    "    x = list(df.columns)\n",
    "    newName = []\n",
    "    for col_name in x:\n",
    "        new = re.sub(r\" ?\\([^)]+\\)\", \"\", col_name)\n",
    "        new = new.lower()\n",
    "        newName.append(new)\n",
    "    df.columns = newName\n",
    "    return df\n",
    "\n",
    "def fix_strings(df, col):\n",
    "    df[col] = df[col].str.lower()\n",
    "    df[col] = df[col].str.replace('[^a-zA-Z0-9]', '')\n",
    "    return df"
   ]
  },
  {
   "cell_type": "code",
   "execution_count": 19,
   "id": "visible-journalism",
   "metadata": {},
   "outputs": [
    {
     "name": "stdout",
     "output_type": "stream",
     "text": [
      "<class 'float'>\n",
      "       beverage_category      beverage      beverage_prep  calories  \\\n",
      "0                 coffee  brewedcoffee              Short         3   \n",
      "1                 coffee  brewedcoffee               Tall         4   \n",
      "2                 coffee  brewedcoffee             Grande         5   \n",
      "3                 coffee  brewedcoffee              Venti         5   \n",
      "4  classicespressodrinks     cafflatte  Short Nonfat Milk        70   \n",
      "\n",
      "   total fat  trans fat  saturated fat   sodium  total carbohydrates  \\\n",
      "0        0.1        0.0            0.0        0                    5   \n",
      "1        0.1        0.0            0.0        0                   10   \n",
      "2        0.1        0.0            0.0        0                   10   \n",
      "3        0.1        0.0            0.0        0                   10   \n",
      "4        0.1        0.1            0.0        5                   75   \n",
      "\n",
      "   cholesterol  dietary fibre  sugars  protein vitamin a vitamin c calcium  \\\n",
      "0            0              0       0      0.3         0         0       0   \n",
      "1            0              0       0      0.5         0         0       0   \n",
      "2            0              0       0      1.0         0         0       0   \n",
      "3            0              0       0      1.0         0         0       2   \n",
      "4           10              0       9      6.0        10         0      20   \n",
      "\n",
      "  iron caffeine  \n",
      "0    0      175  \n",
      "1    0      260  \n",
      "2    0      330  \n",
      "3    0      410  \n",
      "4    0       75  \n"
     ]
    },
    {
     "name": "stderr",
     "output_type": "stream",
     "text": [
      "<ipython-input-18-3deab03be029>:27: FutureWarning: The default value of regex will change from True to False in a future version.\n",
      "  df[col] = df[col].str.replace('[^a-zA-Z0-9]', '')\n"
     ]
    }
   ],
   "source": [
    "def main():\n",
    "    \n",
    "    # first, read in the raw data\n",
    "    df = pd.read_csv('../data/starbucks.csv')\n",
    "    \n",
    "    # the columns below represent percent daily value and are stored as strings with a percent sign, e.g. '0%'\n",
    "    # complete the remove_percents function to remove the percent symbol and convert the columns to a numeric type\n",
    "    pct_DV = ['Vitamin A (% DV)', 'Vitamin C (% DV)', 'Calcium (% DV)', 'Iron (% DV)']\n",
    "    for col in pct_DV:\n",
    "        df = remove_percents(df, col)\n",
    "    \n",
    "    # the column 'Iron (% DV)' has missing values when the drink has no iron\n",
    "    # complete the fill_zero_iron function to fix this\n",
    "    df = fill_zero_iron(df)\n",
    "\n",
    "    # the column 'Caffeine (mg)' has some missing values and some 'varies' values\n",
    "    # complete the fix_caffeine function to deal with these values\n",
    "    # note: you may choose to fill in the values with the mean/median, or drop those values, etc.\n",
    "    df = fix_caffeine(df)\n",
    "    \n",
    "    # the columns below are string columns... starbucks being starbucks there are some fancy characters and symbols in their names\n",
    "    # complete the fix_strings function to convert these strings to lowercase and remove non-alphabet characters\n",
    "    names = ['Beverage_category', 'Beverage']\n",
    "    for col in names:\n",
    "        df = fix_strings(df, col)\n",
    "    \n",
    "    # the column names in this data are clear but inconsistent\n",
    "    # complete the standardize_names function to convert all column names to lower case and remove the units (in parentheses)\n",
    "    df = standardize_names(df)\n",
    "    \n",
    "    print(df.head())\n",
    "    \n",
    "    # now that the data is all clean, save your output to the `data` folder as 'starbucks_clean.csv'\n",
    "    # you will use this file in checkpoint 2\n",
    "    df.to_csv('../data/starbucks_clean.csv', index=False)\n",
    "    \n",
    "\n",
    "if __name__ == \"__main__\":\n",
    "    main()"
   ]
  },
  {
   "cell_type": "code",
   "execution_count": null,
   "id": "significant-bikini",
   "metadata": {},
   "outputs": [],
   "source": []
  }
 ],
 "metadata": {
  "kernelspec": {
   "display_name": "Python 3",
   "language": "python",
   "name": "python3"
  },
  "language_info": {
   "codemirror_mode": {
    "name": "ipython",
    "version": 3
   },
   "file_extension": ".py",
   "mimetype": "text/x-python",
   "name": "python",
   "nbconvert_exporter": "python",
   "pygments_lexer": "ipython3",
   "version": "3.8.7"
  }
 },
 "nbformat": 4,
 "nbformat_minor": 5
}
