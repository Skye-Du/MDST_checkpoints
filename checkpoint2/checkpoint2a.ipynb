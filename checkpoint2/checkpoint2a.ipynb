{
 "cells": [
  {
   "cell_type": "markdown",
   "id": "unusual-presentation",
   "metadata": {
    "colab_type": "text",
    "id": "0a8IYAJUshu1"
   },
   "source": [
    "# Exercises"
   ]
  },
  {
   "cell_type": "markdown",
   "id": "alien-chemistry",
   "metadata": {},
   "source": [
    "These exercises are a mix of Python and pandas/EDA practice. Most should be no more than a few lines of code! "
   ]
  },
  {
   "cell_type": "code",
   "execution_count": 66,
   "id": "filled-worship",
   "metadata": {},
   "outputs": [],
   "source": [
    "import numpy as np\n",
    "import pandas as pd\n",
    "import matplotlib.pyplot as plt\n",
    "import seaborn as sns"
   ]
  },
  {
   "cell_type": "code",
   "execution_count": 4,
   "id": "temporal-peoples",
   "metadata": {
    "colab": {},
    "colab_type": "code",
    "id": "Jo6wuTgkshu1"
   },
   "outputs": [
    {
     "name": "stdout",
     "output_type": "stream",
     "text": [
      "[4, 5, 6]\n",
      "[6, 5, 4, 3, 2, 1]\n",
      "[1, 4, 9, 16, 25, 36]\n"
     ]
    }
   ],
   "source": [
    "# here is a Python list:\n",
    "\n",
    "a = [1, 2, 3, 4, 5, 6]\n",
    "\n",
    "# get a list containing the last 3 elements of a\n",
    "last_3_ele = a[-3:]\n",
    "print(last_3_ele)\n",
    "\n",
    "# reverse the list\n",
    "rev = []\n",
    "for ele in reversed(a):\n",
    "    rev.append(ele)\n",
    "print(rev)\n",
    "\n",
    "# get a list where each entry in a is squared (so the new list is [1, 4, 9, 16, 25, 36])\n",
    "sq_list = []\n",
    "for ele in a:\n",
    "    sq_list.append(ele**2)\n",
    "print(sq_list)"
   ]
  },
  {
   "cell_type": "code",
   "execution_count": 8,
   "id": "foreign-hobby",
   "metadata": {
    "colab": {},
    "colab_type": "code",
    "id": "qANtg5kQshu2"
   },
   "outputs": [],
   "source": [
    "# create a numpy array from this list\n",
    "b = np.array(a, dtype=np.float32) # change this"
   ]
  },
  {
   "cell_type": "code",
   "execution_count": 10,
   "id": "organic-stupid",
   "metadata": {
    "colab": {},
    "colab_type": "code",
    "id": "91CXRflLshu4"
   },
   "outputs": [
    {
     "data": {
      "text/plain": [
       "3.5"
      ]
     },
     "execution_count": 10,
     "metadata": {},
     "output_type": "execute_result"
    }
   ],
   "source": [
    "# find the mean of b\n",
    "np.mean(b)"
   ]
  },
  {
   "cell_type": "code",
   "execution_count": 12,
   "id": "bright-kinase",
   "metadata": {
    "colab": {},
    "colab_type": "code",
    "id": "ZJZFwzQfshu9"
   },
   "outputs": [
    {
     "data": {
      "text/plain": [
       "array([ 1.,  4.,  9., 16., 25., 36.], dtype=float32)"
      ]
     },
     "execution_count": 12,
     "metadata": {},
     "output_type": "execute_result"
    }
   ],
   "source": [
    "# get a list where each entry in b is squared (so the new numpy array is [1, 4, 9, 16, 25, 36])\n",
    "# use a different (numpy-specific) approach\n",
    "sq_np_list = b**2\n",
    "sq_np_list"
   ]
  },
  {
   "cell_type": "code",
   "execution_count": 16,
   "id": "universal-trance",
   "metadata": {
    "colab": {},
    "colab_type": "code",
    "id": "ajbA5rCCshu5"
   },
   "outputs": [
    {
     "data": {
      "text/plain": [
       "array([[1., 2., 3.],\n",
       "       [4., 5., 6.]], dtype=float32)"
      ]
     },
     "execution_count": 16,
     "metadata": {},
     "output_type": "execute_result"
    }
   ],
   "source": [
    "# change b from a length-6 list to a 2x3 matrix\n",
    "b = b.reshape(2,3)\n",
    "b"
   ]
  },
  {
   "cell_type": "code",
   "execution_count": 17,
   "id": "visible-reading",
   "metadata": {
    "colab": {},
    "colab_type": "code",
    "id": "wancU_PWshu6"
   },
   "outputs": [
    {
     "data": {
      "text/plain": [
       "array([2., 5.], dtype=float32)"
      ]
     },
     "execution_count": 17,
     "metadata": {},
     "output_type": "execute_result"
    }
   ],
   "source": [
    "# find the mean value of each row\n",
    "np.mean(b, axis = 1)"
   ]
  },
  {
   "cell_type": "code",
   "execution_count": 18,
   "id": "prompt-breed",
   "metadata": {
    "colab": {},
    "colab_type": "code",
    "id": "N3hXBrBtshu7"
   },
   "outputs": [
    {
     "data": {
      "text/plain": [
       "array([2.5, 3.5, 4.5], dtype=float32)"
      ]
     },
     "execution_count": 18,
     "metadata": {},
     "output_type": "execute_result"
    }
   ],
   "source": [
    "# find the mean value of each column\n",
    "np.mean(b, axis = 0)"
   ]
  },
  {
   "cell_type": "code",
   "execution_count": 22,
   "id": "round-buffer",
   "metadata": {
    "colab": {},
    "colab_type": "code",
    "id": "GvbO8gBXshu8"
   },
   "outputs": [
    {
     "data": {
      "text/plain": [
       "array([3., 6.], dtype=float32)"
      ]
     },
     "execution_count": 22,
     "metadata": {},
     "output_type": "execute_result"
    }
   ],
   "source": [
    "# find the third column of b\n",
    "b[:, 2]"
   ]
  },
  {
   "cell_type": "code",
   "execution_count": 53,
   "id": "distinguished-clause",
   "metadata": {
    "colab": {},
    "colab_type": "code",
    "id": "WzCQ5HOJshvA"
   },
   "outputs": [
    {
     "data": {
      "text/html": [
       "<div>\n",
       "<style scoped>\n",
       "    .dataframe tbody tr th:only-of-type {\n",
       "        vertical-align: middle;\n",
       "    }\n",
       "\n",
       "    .dataframe tbody tr th {\n",
       "        vertical-align: top;\n",
       "    }\n",
       "\n",
       "    .dataframe thead th {\n",
       "        text-align: right;\n",
       "    }\n",
       "</style>\n",
       "<table border=\"1\" class=\"dataframe\">\n",
       "  <thead>\n",
       "    <tr style=\"text-align: right;\">\n",
       "      <th></th>\n",
       "      <th>beverage_category</th>\n",
       "      <th>beverage</th>\n",
       "      <th>beverage_prep</th>\n",
       "      <th>calories</th>\n",
       "      <th>total fat</th>\n",
       "      <th>trans fat</th>\n",
       "      <th>saturated fat</th>\n",
       "      <th>sodium</th>\n",
       "      <th>total carbohydrates</th>\n",
       "      <th>cholesterol</th>\n",
       "      <th>dietary fibre</th>\n",
       "      <th>sugars</th>\n",
       "      <th>protein</th>\n",
       "      <th>vitamin a</th>\n",
       "      <th>vitamin c</th>\n",
       "      <th>calcium</th>\n",
       "      <th>iron</th>\n",
       "      <th>caffeine</th>\n",
       "    </tr>\n",
       "  </thead>\n",
       "  <tbody>\n",
       "    <tr>\n",
       "      <th>0</th>\n",
       "      <td>coffee</td>\n",
       "      <td>brewedcoffee</td>\n",
       "      <td>Short</td>\n",
       "      <td>3</td>\n",
       "      <td>0.1</td>\n",
       "      <td>0.0</td>\n",
       "      <td>0.0</td>\n",
       "      <td>0</td>\n",
       "      <td>5</td>\n",
       "      <td>0</td>\n",
       "      <td>0</td>\n",
       "      <td>0</td>\n",
       "      <td>0.3</td>\n",
       "      <td>0</td>\n",
       "      <td>0</td>\n",
       "      <td>0</td>\n",
       "      <td>0.0</td>\n",
       "      <td>175</td>\n",
       "    </tr>\n",
       "    <tr>\n",
       "      <th>1</th>\n",
       "      <td>coffee</td>\n",
       "      <td>brewedcoffee</td>\n",
       "      <td>Tall</td>\n",
       "      <td>4</td>\n",
       "      <td>0.1</td>\n",
       "      <td>0.0</td>\n",
       "      <td>0.0</td>\n",
       "      <td>0</td>\n",
       "      <td>10</td>\n",
       "      <td>0</td>\n",
       "      <td>0</td>\n",
       "      <td>0</td>\n",
       "      <td>0.5</td>\n",
       "      <td>0</td>\n",
       "      <td>0</td>\n",
       "      <td>0</td>\n",
       "      <td>0.0</td>\n",
       "      <td>260</td>\n",
       "    </tr>\n",
       "    <tr>\n",
       "      <th>2</th>\n",
       "      <td>coffee</td>\n",
       "      <td>brewedcoffee</td>\n",
       "      <td>Grande</td>\n",
       "      <td>5</td>\n",
       "      <td>0.1</td>\n",
       "      <td>0.0</td>\n",
       "      <td>0.0</td>\n",
       "      <td>0</td>\n",
       "      <td>10</td>\n",
       "      <td>0</td>\n",
       "      <td>0</td>\n",
       "      <td>0</td>\n",
       "      <td>1.0</td>\n",
       "      <td>0</td>\n",
       "      <td>0</td>\n",
       "      <td>0</td>\n",
       "      <td>0.0</td>\n",
       "      <td>330</td>\n",
       "    </tr>\n",
       "    <tr>\n",
       "      <th>3</th>\n",
       "      <td>coffee</td>\n",
       "      <td>brewedcoffee</td>\n",
       "      <td>Venti</td>\n",
       "      <td>5</td>\n",
       "      <td>0.1</td>\n",
       "      <td>0.0</td>\n",
       "      <td>0.0</td>\n",
       "      <td>0</td>\n",
       "      <td>10</td>\n",
       "      <td>0</td>\n",
       "      <td>0</td>\n",
       "      <td>0</td>\n",
       "      <td>1.0</td>\n",
       "      <td>0</td>\n",
       "      <td>0</td>\n",
       "      <td>2</td>\n",
       "      <td>0.0</td>\n",
       "      <td>410</td>\n",
       "    </tr>\n",
       "    <tr>\n",
       "      <th>4</th>\n",
       "      <td>classicespressodrinks</td>\n",
       "      <td>cafflatte</td>\n",
       "      <td>Short Nonfat Milk</td>\n",
       "      <td>70</td>\n",
       "      <td>0.1</td>\n",
       "      <td>0.1</td>\n",
       "      <td>0.0</td>\n",
       "      <td>5</td>\n",
       "      <td>75</td>\n",
       "      <td>10</td>\n",
       "      <td>0</td>\n",
       "      <td>9</td>\n",
       "      <td>6.0</td>\n",
       "      <td>10</td>\n",
       "      <td>0</td>\n",
       "      <td>20</td>\n",
       "      <td>0.0</td>\n",
       "      <td>75</td>\n",
       "    </tr>\n",
       "  </tbody>\n",
       "</table>\n",
       "</div>"
      ],
      "text/plain": [
       "       beverage_category      beverage      beverage_prep  calories  \\\n",
       "0                 coffee  brewedcoffee              Short         3   \n",
       "1                 coffee  brewedcoffee               Tall         4   \n",
       "2                 coffee  brewedcoffee             Grande         5   \n",
       "3                 coffee  brewedcoffee              Venti         5   \n",
       "4  classicespressodrinks     cafflatte  Short Nonfat Milk        70   \n",
       "\n",
       "   total fat  trans fat  saturated fat   sodium  total carbohydrates  \\\n",
       "0        0.1        0.0            0.0        0                    5   \n",
       "1        0.1        0.0            0.0        0                   10   \n",
       "2        0.1        0.0            0.0        0                   10   \n",
       "3        0.1        0.0            0.0        0                   10   \n",
       "4        0.1        0.1            0.0        5                   75   \n",
       "\n",
       "   cholesterol  dietary fibre  sugars  protein  vitamin a  vitamin c  calcium  \\\n",
       "0            0              0       0      0.3          0          0        0   \n",
       "1            0              0       0      0.5          0          0        0   \n",
       "2            0              0       0      1.0          0          0        0   \n",
       "3            0              0       0      1.0          0          0        2   \n",
       "4           10              0       9      6.0         10          0       20   \n",
       "\n",
       "   iron caffeine  \n",
       "0   0.0      175  \n",
       "1   0.0      260  \n",
       "2   0.0      330  \n",
       "3   0.0      410  \n",
       "4   0.0       75  "
      ]
     },
     "execution_count": 53,
     "metadata": {},
     "output_type": "execute_result"
    }
   ],
   "source": [
    "# load in the \"starbucks_clean.csv\" dataset\n",
    "df = pd.read_csv('../data/starbucks_clean.csv')\n",
    "df.head()"
   ]
  },
  {
   "cell_type": "code",
   "execution_count": 54,
   "id": "global-clothing",
   "metadata": {
    "colab": {},
    "colab_type": "code",
    "id": "rIoxaSxHshvB"
   },
   "outputs": [
    {
     "data": {
      "text/plain": [
       "198.34913793103448"
      ]
     },
     "execution_count": 54,
     "metadata": {},
     "output_type": "execute_result"
    }
   ],
   "source": [
    "# this is nutritional info for starbucks items\n",
    "# let's see if we can answer some questions\n",
    "\n",
    "# what is the average # calories across all items?\n",
    "df['calories'].mean()"
   ]
  },
  {
   "cell_type": "code",
   "execution_count": 55,
   "id": "shaped-paris",
   "metadata": {
    "colab": {},
    "colab_type": "code",
    "id": "ABX7i49FshvD"
   },
   "outputs": [
    {
     "data": {
      "text/plain": [
       "array(['coffee', 'classicespressodrinks', 'signatureespressodrinks',\n",
       "       'tazoteadrinks', 'shakenicedbeverages', 'smoothies',\n",
       "       'frappuccinoblendedcoffee', 'frappuccinolightblendedcoffee',\n",
       "       'frappuccinoblendedcrme'], dtype=object)"
      ]
     },
     "execution_count": 55,
     "metadata": {},
     "output_type": "execute_result"
    }
   ],
   "source": [
    "# how many different categories of beverages are there?\n",
    "df['beverage_category'].unique()"
   ]
  },
  {
   "cell_type": "code",
   "execution_count": 56,
   "id": "organic-encyclopedia",
   "metadata": {
    "colab": {},
    "colab_type": "code",
    "id": "P9QatZAzshvE"
   },
   "outputs": [
    {
     "data": {
      "text/plain": [
       "beverage_category\n",
       "classicespressodrinks            140.172414\n",
       "coffee                             4.250000\n",
       "frappuccinoblendedcoffee         276.944444\n",
       "frappuccinoblendedcrme           233.076923\n",
       "frappuccinolightblendedcoffee    162.500000\n",
       "shakenicedbeverages              110.769231\n",
       "signatureespressodrinks          250.000000\n",
       "smoothies                        282.500000\n",
       "tazoteadrinks                    192.083333\n",
       "Name: calories, dtype: float64"
      ]
     },
     "execution_count": 56,
     "metadata": {},
     "output_type": "execute_result"
    }
   ],
   "source": [
    "# what is the average # calories for each beverage category?\n",
    "df.groupby('beverage_category').mean()['calories']"
   ]
  },
  {
   "cell_type": "code",
   "execution_count": 57,
   "id": "enhanced-prior",
   "metadata": {
    "colab": {},
    "colab_type": "code",
    "id": "y8KEpYNkshvG"
   },
   "outputs": [
    {
     "data": {
      "text/plain": [
       "55.6875"
      ]
     },
     "execution_count": 57,
     "metadata": {},
     "output_type": "execute_result"
    }
   ],
   "source": [
    "# what beverage preparation includes the most sugar on average?\n",
    "df.groupby('beverage_prep').mean()['sugars'].max()"
   ]
  },
  {
   "cell_type": "code",
   "execution_count": 58,
   "id": "academic-unknown",
   "metadata": {
    "colab": {},
    "colab_type": "code",
    "id": "MnbCEJw8shvH"
   },
   "outputs": [
    {
     "data": {
      "text/plain": [
       "beverage\n",
       "bananachocolatesmoothie                   20.000000\n",
       "brewedcoffee                               0.500000\n",
       "caffamericano                              1.500000\n",
       "cafflatte                                 35.000000\n",
       "caffmochawithoutwhippedcream              30.000000\n",
       "cappuccino                                22.500000\n",
       "caramel                                   11.000000\n",
       "caramelapplespicewithoutwhippedcream       0.000000\n",
       "caramelmacchiato                          28.333333\n",
       "caramelwithoutwhippedcream                12.000000\n",
       "coffee                                    12.333333\n",
       "espresso                                   0.000000\n",
       "hotchocolatewithoutwhippedcream           35.000000\n",
       "icedbrewedcoffeewithclassicsyrup           0.000000\n",
       "icedbrewedcoffeewithmilkclassicsyrup       8.000000\n",
       "javachip                                  11.666667\n",
       "javachipwithoutwhippedcream               12.555556\n",
       "mocha                                     11.000000\n",
       "mochawithoutwhippedcream                  12.000000\n",
       "orangemangobananasmoothie                 10.000000\n",
       "shakenicedtazoteawithclassicsyrup          0.000000\n",
       "skinnylatteanyflavour                     33.750000\n",
       "strawberriescrmewithoutwhippedcream       15.000000\n",
       "strawberrybananasmoothie                  10.000000\n",
       "tazochaitealatte                          21.666667\n",
       "tazofullleafredtealattevanillarooibos     20.833333\n",
       "tazofullleaftealatte                      20.833333\n",
       "tazogreentealatte                         39.166667\n",
       "vanillabeanwithoutwhippedcream            11.250000\n",
       "vanillalatteorotherflavouredlatte         32.916667\n",
       "whitechocolatemochawithoutwhippedcream    41.250000\n",
       "Name: calcium, dtype: float64"
      ]
     },
     "execution_count": 58,
     "metadata": {},
     "output_type": "execute_result"
    }
   ],
   "source": [
    "# what is the average % daily value calcium content for each beverage?\n",
    "df.groupby('beverage').mean()['calcium']"
   ]
  },
  {
   "cell_type": "code",
   "execution_count": 60,
   "id": "changing-norman",
   "metadata": {
    "colab": {},
    "colab_type": "code",
    "id": "Nv5dksj_shvJ"
   },
   "outputs": [
    {
     "data": {
      "text/plain": [
       "2    brewedcoffee\n",
       "3    brewedcoffee\n",
       "Name: beverage, dtype: object"
      ]
     },
     "execution_count": 60,
     "metadata": {},
     "output_type": "execute_result"
    }
   ],
   "source": [
    "# It's bulking season. What drink should Naitian get so that he maximizes protein but minimizes calories?\n",
    "# (you can use more than one line for this one)\n",
    "# there are multiple valid approaches you can take for this (with different answers)\n",
    "# I know that you want more calories for bulking season but whatever this is MDST, not Michigan Muscle Club okay\n",
    "df['protein/calories'] = df['protein']/df['calories']\n",
    "df[df['protein/calories'] == df['protein/calories'].max()]['beverage']"
   ]
  },
  {
   "cell_type": "code",
   "execution_count": 67,
   "id": "addressed-royalty",
   "metadata": {},
   "outputs": [
    {
     "data": {
      "image/png": "[encoded data removed]",
      "text/plain": [
       "<Figure size 432x288 with 1 Axes>"
      ]
     },
     "metadata": {
      "needs_background": "light"
     },
     "output_type": "display_data"
    }
   ],
   "source": [
    "# plot the distribution of the number of calories in drinks using matplotlib\n",
    "_ = plt.hist(df['calories'])"
   ]
  },
  {
   "cell_type": "code",
   "execution_count": 68,
   "id": "efficient-garbage",
   "metadata": {},
   "outputs": [
    {
     "data": {
      "text/plain": [
       "<seaborn.axisgrid.FacetGrid at 0x7f8af16c86d0>"
      ]
     },
     "execution_count": 68,
     "metadata": {},
     "output_type": "execute_result"
    },
    {
     "data": {
      "image/png": "[encoded data removed]",
      "text/plain": [
       "<Figure size 360x360 with 1 Axes>"
      ]
     },
     "metadata": {
      "needs_background": "light"
     },
     "output_type": "display_data"
    }
   ],
   "source": [
    "# plot the same distribution using seaborn. what about a density plot instead?\n",
    "sns.displot(x = \"calories\", data = df)"
   ]
  },
  {
   "cell_type": "code",
   "execution_count": 69,
   "id": "chicken-aluminum",
   "metadata": {},
   "outputs": [
    {
     "data": {
      "text/plain": [
       "<seaborn.axisgrid.FacetGrid at 0x7f8b01762ca0>"
      ]
     },
     "execution_count": 69,
     "metadata": {},
     "output_type": "execute_result"
    },
    {
     "data": {
      "image/png": "[encoded data removed]",
      "text/plain": [
       "<Figure size 360x360 with 1 Axes>"
      ]
     },
     "metadata": {
      "needs_background": "light"
     },
     "output_type": "display_data"
    }
   ],
   "source": [
    "# plot calories against total fat using seaborn\n",
    "sns.relplot(x = \"calories\", y = \"total fat\", data = df)"
   ]
  },
  {
   "cell_type": "code",
   "execution_count": 78,
   "id": "involved-fighter",
   "metadata": {},
   "outputs": [
    {
     "data": {
      "text/plain": [
       "[<matplotlib.lines.Line2D at 0x7f8ad01154f0>]"
      ]
     },
     "execution_count": 78,
     "metadata": {},
     "output_type": "execute_result"
    },
    {
     "data": {
      "image/png": "[encoded data removed]",
      "text/plain": [
       "<Figure size 432x288 with 1 Axes>"
      ]
     },
     "metadata": {
      "needs_background": "light"
     },
     "output_type": "display_data"
    }
   ],
   "source": [
    "# plot the distribution of calories in Short, Tall, Grande, and Venti drinks\n",
    "# (you can use multiple lines for this)\n",
    "# twist: you should also include the Nonfat Milk drinks that also have an associated size.\n",
    "\n",
    "# you can decide how you want to visualize this. Colors? Small multiples? Density vs histogram?\n",
    "# the starbucks is your oyster.\n",
    "plt.plot(df[df['beverage_prep'] == 'Short']['calories'], '-r')\n",
    "plt.plot(df[df['beverage_prep'] == 'Tall']['calories'], '-*b')\n",
    "plt.plot(df[df['beverage_prep'] == 'Grande']['calories'], '--g')\n",
    "plt.plot(df[df['beverage_prep'] == 'Venti']['calories'], '-.o')"
   ]
  },
  {
   "cell_type": "code",
   "execution_count": null,
   "id": "controlling-marsh",
   "metadata": {},
   "outputs": [],
   "source": []
  }
 ],
 "metadata": {
  "kernelspec": {
   "display_name": "Python 3",
   "language": "python",
   "name": "python3"
  },
  "language_info": {
   "codemirror_mode": {
    "name": "ipython",
    "version": 3
   },
   "file_extension": ".py",
   "mimetype": "text/x-python",
   "name": "python",
   "nbconvert_exporter": "python",
   "pygments_lexer": "ipython3",
   "version": "3.8.7"
  }
 },
 "nbformat": 4,
 "nbformat_minor": 5
}
